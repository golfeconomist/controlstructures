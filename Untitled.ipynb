{
 "cells": [
  {
   "cell_type": "markdown",
   "id": "7724d2c8-8619-48e7-b9d4-68399f649070",
   "metadata": {},
   "source": [
    "# Materiales para el curso\n",
    "\n",
    "* https://github.com/golfeconomist/controlstructures\n",
    "* Descarga Jupyter Notebook con la distribución de Anaconda aquí https://www.anaconda.com/download"
   ]
  },
  {
   "cell_type": "markdown",
   "id": "ee2b114b-42aa-4dc6-85ad-a57e2480ef50",
   "metadata": {},
   "source": [
    "# Control structures (estructuras de control)\n",
    "\n",
    "* Nos permiten dirigir el flujo de nuestras programas usando:\n",
    "  * bucles (loops) para repetir acciones\n",
    "  * sentancias if (if statements) para tomar deciciones"
   ]
  },
  {
   "cell_type": "markdown",
   "id": "3e7a6081-de68-4444-acb6-604d2af2f727",
   "metadata": {},
   "source": [
    "# For loops (bucle for)\n",
    "\n",
    "* se utiliza para\n",
    "  * iterar sobre una secuencia de elementos\n",
    "  * ejecutar un bloque de código por cada elemento\n",
    "\n",
    "\n",
    "- Algunos ejemplos del mundo real\n",
    "  - Lavar un fregadero lleno de platos\n",
    "    - Por cada plato en nuestro fregadero\n",
    "    - Lo lavamos, secamos, y guardamos\n",
    "  - Hacer sándwiches para tu familia\n",
    "    - Por cada persona en tu familia\n",
    "    - Prepara el sándwich, ponlo en un plato y dáselo"
   ]
  },
  {
   "cell_type": "markdown",
   "id": "d567fcbb-0100-45b4-953a-3d85497d500f",
   "metadata": {},
   "source": [
    "# Print (imprimir)\n",
    "\n",
    "una función en Python que se utiliza para mostrar información en la pantalla o consola"
   ]
  },
  {
   "cell_type": "markdown",
   "id": "e832f0cf-8fa7-48fa-b8a7-8817b5dbdeda",
   "metadata": {},
   "source": [
    "# For loop examples"
   ]
  },
  {
   "cell_type": "code",
   "execution_count": 97,
   "id": "fdb63556-a673-40c6-b686-4916936d3c80",
   "metadata": {},
   "outputs": [],
   "source": [
    "ninjas = [ \"Raph\", \"Leo\", \"Mikey\", \"Splinter\", \"KC Jones\", \"Donny\" ]\n",
    "\n",
    "# Escribe un bucle for que imprima el nombre de cada ninja\n"
   ]
  },
  {
   "cell_type": "code",
   "execution_count": 96,
   "id": "fa8dda4e-2573-4e09-8d36-cdd82d3270ef",
   "metadata": {},
   "outputs": [],
   "source": [
    "villano = \"Shredder\"\n",
    "\n",
    "# Escribe un bucle for que imprima cada letra del nombre del villano\n"
   ]
  },
  {
   "cell_type": "markdown",
   "id": "4f84916f-3240-44a7-a855-7758e638f447",
   "metadata": {},
   "source": [
    "# If statements (sentancias if)\n",
    "\n",
    "- Verifica una condición\n",
    "- Si es verdadero, ejecuta un bloque de código\n",
    "\n",
    "- Ejemplos del mundo real\n",
    "  - Si el semáforo está en verde, voy\n",
    "  - Si tengo hambre, como"
   ]
  },
  {
   "cell_type": "markdown",
   "id": "ed202028-d026-4252-9af5-66aa23c349e7",
   "metadata": {},
   "source": [
    "# If statement examples"
   ]
  },
  {
   "cell_type": "code",
   "execution_count": 95,
   "id": "2a4a3933-a421-4d67-bfd8-050b9cfa0fac",
   "metadata": {},
   "outputs": [],
   "source": [
    "# Itera sobre los ninjas y, si es Splinter, imprime un mensaje diciéndole que es sabio\n"
   ]
  },
  {
   "cell_type": "code",
   "execution_count": null,
   "id": "c7c0a25d-b561-4895-a49e-c25da4e13cfc",
   "metadata": {},
   "outputs": [],
   "source": [
    "# Agrega una cláusula elif al ejemplo anterior diciendo que KC Jones es fuerte"
   ]
  },
  {
   "cell_type": "code",
   "execution_count": 115,
   "id": "14a39ecb-58bd-4774-a58b-a21fb6d546fa",
   "metadata": {},
   "outputs": [],
   "source": [
    "numeros = [1, 10, 5, 2, 3, -1, 25]\n",
    "\n",
    "# Itera sobre los números e imprime cada número si es menor que 10"
   ]
  },
  {
   "cell_type": "code",
   "execution_count": null,
   "id": "6bbf7daa-168a-4b1e-9f95-45be2d26d9b9",
   "metadata": {},
   "outputs": [],
   "source": []
  },
  {
   "cell_type": "code",
   "execution_count": null,
   "id": "5cb90b9b-d113-40ef-b486-47afdf8f1748",
   "metadata": {},
   "outputs": [],
   "source": [
    "# Otros operadores de comparación\n",
    "# ==, !=, =<, =>"
   ]
  },
  {
   "cell_type": "code",
   "execution_count": null,
   "id": "489960ad-6d86-4789-a3b9-e402200b69f9",
   "metadata": {},
   "outputs": [],
   "source": []
  }
 ],
 "metadata": {
  "kernelspec": {
   "display_name": "Python 3 (ipykernel)",
   "language": "python",
   "name": "python3"
  },
  "language_info": {
   "codemirror_mode": {
    "name": "ipython",
    "version": 3
   },
   "file_extension": ".py",
   "mimetype": "text/x-python",
   "name": "python",
   "nbconvert_exporter": "python",
   "pygments_lexer": "ipython3",
   "version": "3.12.7"
  }
 },
 "nbformat": 4,
 "nbformat_minor": 5
}
