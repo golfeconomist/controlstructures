{
 "cells": [
  {
   "cell_type": "markdown",
   "id": "7724d2c8-8619-48e7-b9d4-68399f649070",
   "metadata": {},
   "source": [
    "# Materiales para el curso\n",
    "\n",
    "* github\n",
    "* Descarga Jupyter Notebook con la distribución de Anaconda aquí https://www.anaconda.com/download"
   ]
  },
  {
   "cell_type": "markdown",
   "id": "ee2b114b-42aa-4dc6-85ad-a57e2480ef50",
   "metadata": {},
   "source": [
    "# Control structures (estructuras de control)\n",
    "\n",
    "* Nos permiten dirigir el flujo de nuestras programas usando:\n",
    "  * bucles (loops) para repetir acciones\n",
    "  * sentancias if (if statements) para tomar deciciones"
   ]
  },
  {
   "cell_type": "markdown",
   "id": "3e7a6081-de68-4444-acb6-604d2af2f727",
   "metadata": {},
   "source": [
    "# For loops (bucle for)\n",
    "\n",
    "* se utiliza para\n",
    "  * iterar sobre una secuencia de elementos\n",
    "  * ejecutar un bloque de código por cada elemento\n",
    "\n",
    "\n",
    "- Algunos ejemplos del mundo real\n",
    "  - Lavar un fregadero lleno de platos\n",
    "    - Por cada plato en nuestro fregadero\n",
    "    - Lo lavamos, secamos, y guardamos\n",
    "  - Hacer sándwiches para tu familia\n",
    "    - Por cada persona en tu familia\n",
    "    - Prepara el sándwich, ponlo en un plato y dáselo"
   ]
  },
  {
   "cell_type": "markdown",
   "id": "d567fcbb-0100-45b4-953a-3d85497d500f",
   "metadata": {},
   "source": [
    "# Print (imprimir)\n",
    "\n",
    "una función en Python que se utiliza para mostrar información en la pantalla o consola"
   ]
  },
  {
   "cell_type": "markdown",
   "id": "e832f0cf-8fa7-48fa-b8a7-8817b5dbdeda",
   "metadata": {},
   "source": [
    "# For loop examples"
   ]
  },
  {
   "cell_type": "code",
   "execution_count": 97,
   "id": "fdb63556-a673-40c6-b686-4916936d3c80",
   "metadata": {},
   "outputs": [],
   "source": [
    "ninjas = [ \"Raph\", \"Leo\", \"Mikey\", \"Splinter\", \"KC Jones\", \"Donny\" ]\n",
    "\n",
    "# Escribe un bucle for que imprima el nombre de cada ninja\n"
   ]
  },
  {
   "cell_type": "code",
   "execution_count": 96,
   "id": "fa8dda4e-2573-4e09-8d36-cdd82d3270ef",
   "metadata": {},
   "outputs": [],
   "source": [
    "villano = \"Shredder\"\n",
    "\n",
    "# Escribe un bucle for que imprima cada letra del nombre del villano\n"
   ]
  },
  {
   "cell_type": "markdown",
   "id": "4f84916f-3240-44a7-a855-7758e638f447",
   "metadata": {},
   "source": [
    "# If statements (sentancias if)"
   ]
  },
  {
   "cell_type": "code",
   "execution_count": null,
   "id": "56b3d0fd-6153-4842-8475-992fab6f3775",
   "metadata": {},
   "outputs": [],
   "source": []
  },
  {
   "cell_type": "markdown",
   "id": "ed202028-d026-4252-9af5-66aa23c349e7",
   "metadata": {},
   "source": [
    "# If statement examples"
   ]
  },
  {
   "cell_type": "code",
   "execution_count": 95,
   "id": "2a4a3933-a421-4d67-bfd8-050b9cfa0fac",
   "metadata": {},
   "outputs": [],
   "source": [
    "# loop over the ninjas, and if it is splinter, print a message telling him he is wise\n"
   ]
  },
  {
   "cell_type": "code",
   "execution_count": null,
   "id": "f9f21109-3cc8-478c-a0c8-291f0a7c1993",
   "metadata": {},
   "outputs": [],
   "source": [
    "# add an elif clause to the previous example telling KC Jones he is strong"
   ]
  },
  {
   "cell_type": "code",
   "execution_count": null,
   "id": "c7c0a25d-b561-4895-a49e-c25da4e13cfc",
   "metadata": {},
   "outputs": [],
   "source": [
    "# add an else clause telling everyone else that they are young"
   ]
  },
  {
   "cell_type": "code",
   "execution_count": null,
   "id": "5cb90b9b-d113-40ef-b486-47afdf8f1748",
   "metadata": {},
   "outputs": [],
   "source": [
    "# other comparison operators\n",
    "# ==, !=, =<, =>"
   ]
  },
  {
   "cell_type": "code",
   "execution_count": null,
   "id": "30edb278-7a0c-4c77-8022-f2c14bf9a118",
   "metadata": {},
   "outputs": [],
   "source": []
  },
  {
   "cell_type": "code",
   "execution_count": null,
   "id": "5266880a-ab58-4e7c-bea8-316353bc040d",
   "metadata": {},
   "outputs": [],
   "source": []
  },
  {
   "cell_type": "code",
   "execution_count": null,
   "id": "9b06a2e1-6540-40a2-90fd-0a7042991a61",
   "metadata": {},
   "outputs": [],
   "source": []
  },
  {
   "cell_type": "code",
   "execution_count": 113,
   "id": "a48f9b7c-c455-4bd5-93de-4aa2771adf2b",
   "metadata": {},
   "outputs": [],
   "source": [
    "arr_of_arrs = [[1,2,3], [4,5,6], [7,8,9]]"
   ]
  },
  {
   "cell_type": "code",
   "execution_count": 114,
   "id": "a88aadee-30a6-43aa-954d-96ea2cef5668",
   "metadata": {},
   "outputs": [
    {
     "data": {
      "text/plain": [
       "2"
      ]
     },
     "execution_count": 114,
     "metadata": {},
     "output_type": "execute_result"
    }
   ],
   "source": [
    "arr_of_arrs[0][1]"
   ]
  },
  {
   "cell_type": "code",
   "execution_count": null,
   "id": "0df13efb-2153-4154-abb1-cac4fc4ceb67",
   "metadata": {},
   "outputs": [],
   "source": []
  }
 ],
 "metadata": {
  "kernelspec": {
   "display_name": "Python 3 (ipykernel)",
   "language": "python",
   "name": "python3"
  },
  "language_info": {
   "codemirror_mode": {
    "name": "ipython",
    "version": 3
   },
   "file_extension": ".py",
   "mimetype": "text/x-python",
   "name": "python",
   "nbconvert_exporter": "python",
   "pygments_lexer": "ipython3",
   "version": "3.12.7"
  }
 },
 "nbformat": 4,
 "nbformat_minor": 5
}
